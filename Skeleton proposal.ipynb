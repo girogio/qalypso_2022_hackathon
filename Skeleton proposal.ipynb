{
 "cells": [
  {
   "cell_type": "markdown",
   "id": "d3311740",
   "metadata": {},
   "source": [
    "# Shor's factorization algorithm"
   ]
  },
  {
   "cell_type": "markdown",
   "id": "7123bbb4",
   "metadata": {},
   "source": [
    "## Goal"
   ]
  },
  {
   "cell_type": "code",
   "execution_count": 2,
   "id": "b077d699",
   "metadata": {},
   "outputs": [
    {
     "ename": "TypeError",
     "evalue": "pow expected 2 arguments, got 3",
     "output_type": "error",
     "traceback": [
      "\u001b[1;31m---------------------------------------------------------------------------\u001b[0m",
      "\u001b[1;31mTypeError\u001b[0m                                 Traceback (most recent call last)",
      "Input \u001b[1;32mIn [2]\u001b[0m, in \u001b[0;36m<cell line: 1>\u001b[1;34m()\u001b[0m\n\u001b[1;32m----> 1\u001b[0m \u001b[38;5;28;43mpow\u001b[39;49m\u001b[43m(\u001b[49m\u001b[38;5;241;43m3\u001b[39;49m\u001b[43m,\u001b[49m\u001b[43m \u001b[49m\u001b[38;5;241;43m12\u001b[39;49m\u001b[43m,\u001b[49m\u001b[43m \u001b[49m\u001b[38;5;241;43m35\u001b[39;49m\u001b[43m)\u001b[49m\n",
      "\u001b[1;31mTypeError\u001b[0m: pow expected 2 arguments, got 3"
     ]
    }
   ],
   "source": [
    "pow(3, 12, 35)"
   ]
  },
  {
   "cell_type": "markdown",
   "id": "0d972b21",
   "metadata": {},
   "source": [
    "## Algorithm Overview"
   ]
  },
  {
   "cell_type": "markdown",
   "id": "f8d4139c",
   "metadata": {},
   "source": [
    "Let N be the number we want to factorize. $N=pq$\n",
    "consider the family of functions $f_a(x)=a^x \\mod N$, for $a$ ...\n",
    "The period $r$ has the property that...\n",
    "The probability of finding a good $a$ is ...\n",
    "\n",
    "\n",
    "The take-home message is: Shor's algorithm would already be classically efficiently implementable, except for the **period finding bottleneck**"
   ]
  },
  {
   "cell_type": "markdown",
   "id": "50e91bf4",
   "metadata": {},
   "source": [
    "## Classical period finding"
   ]
  },
  {
   "cell_type": "markdown",
   "id": "d4de758c",
   "metadata": {},
   "source": [
    "## Quantum period finding"
   ]
  },
  {
   "cell_type": "markdown",
   "id": "bcbf8bab",
   "metadata": {},
   "source": [
    "### From period to eigenvalue"
   ]
  },
  {
   "cell_type": "markdown",
   "id": "6f7cf51c",
   "metadata": {},
   "source": [
    "### Quantum phase estimation"
   ]
  },
  {
   "cell_type": "markdown",
   "id": "a814af4c",
   "metadata": {},
   "source": [
    "### Quantum Fourier Transform"
   ]
  },
  {
   "cell_type": "markdown",
   "id": "cbfb9341",
   "metadata": {},
   "source": [
    "### Overall time cost of QFT"
   ]
  },
  {
   "cell_type": "markdown",
   "id": "f7ae0270",
   "metadata": {},
   "source": [
    "#### Appendix: probability of finding a good $a$\n",
    "\n",
    "I suggest we run the period finding program for all values of $a$ and count how many of them are good and how many are not"
   ]
  },
  {
   "cell_type": "code",
   "execution_count": null,
   "id": "f0b4f74f",
   "metadata": {},
   "outputs": [],
   "source": []
  }
 ],
 "metadata": {
  "kernelspec": {
   "display_name": "Python 3 (ipykernel)",
   "language": "python",
   "name": "python3"
  },
  "language_info": {
   "codemirror_mode": {
    "name": "ipython",
    "version": 3
   },
   "file_extension": ".py",
   "mimetype": "text/x-python",
   "name": "python",
   "nbconvert_exporter": "python",
   "pygments_lexer": "ipython3",
   "version": "3.10.6"
  }
 },
 "nbformat": 4,
 "nbformat_minor": 5
}
