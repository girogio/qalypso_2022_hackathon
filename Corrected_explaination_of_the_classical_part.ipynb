{
 "cells": [
  {
   "cell_type": "markdown",
   "id": "8389c6fa",
   "metadata": {},
   "source": [
    "## Classical Part\n",
    "\n",
    "1. Pick a random number $a < N$ \n",
    "2. Find the greatest common divisor of $a$ and $N$.\n",
    "> The Greatest Common Divisor (GCD) of two numbers is the largest positive integer that divides both of them. $GCD(a,b)$ can be found very fast with the Euclidean algorithm in $\\mathcal{O}(log(min(a,b)))$.\n",
    "3. If $GCD(a,N) \\neq 1$ then we output $p=a$. Otherwise, run period finding subroutine to obtain the period $r$ of the following function: $f_a(x)=a^x \\mod N$.\n",
    "> $r$ is the smallest integer such that $f(x + r) = f(x) \\forall x$, where $f(x) = a^x mod N$. The idea is that we want to find $r$ because: $$ f(r)=f(0) \\Rightarrow (a^r -1) mod N = 0.\\$$\n",
    "\n",
    "> **Finding $r$ is a task classical computers are not able to perform efficiently, unlike quantum computers. <br>\n",
    "    This is the only bottleneck that makes factorization inefficient on classical computers!**\n",
    "\n",
    "4. Then, $ (a^r -1) = (a^\\frac{r}{2} + 1)(a^\\frac{r}{2} - 1) =kN $ for some unknown $k \\in N$\n",
    "\n",
    "5. If $r$ is odd, $a^\\frac{r}{2} ± 1$ is not an integer and therefore we can't extract information on the divisors of $N$ from $(a^\\frac{r}{2} + 1)(a^\\frac{r}{2} - 1) =kN $: $a$ is thus discarded and we go back to step 1.\n",
    "\n",
    "6. If $r$ is even, then the two auxiliary numbers $a^\\frac{r}{2} ± 1$ are proper factors of $kN$.\n",
    "    Compute $GCD(a^\\frac{r}{2} ± 1,N)$. There are 2 cases: <br>\n",
    "    . Unlucky case: $GCD(a^\\frac{r}{2} + 1,N)$ and $GCD(a^\\frac{r}{2} - 1,N)$ are both equal to $N$ or $1$. This happens when both of the factors $p$ and $q$ of $N$ factorize the same auxiliary number. $a$ is thus discarded and we go back to step 1 <br>\n",
    "    . Lucky case: At least one of $GCD(a^\\frac{r}{2} + 1,N)$ and $GCD(a^\\frac{r}{2} - 1,N)$ is equal to $p$ or $q$. This happens when the factors $p$ and $q$ of $N$ each factorize a different auxiliary number. The algorithm thus succeeds. <br>"
   ]
  },
  {
   "cell_type": "code",
   "execution_count": null,
   "id": "09911b28",
   "metadata": {},
   "outputs": [],
   "source": []
  }
 ],
 "metadata": {
  "kernelspec": {
   "display_name": "Python 3 (ipykernel)",
   "language": "python",
   "name": "python3"
  },
  "language_info": {
   "codemirror_mode": {
    "name": "ipython",
    "version": 3
   },
   "file_extension": ".py",
   "mimetype": "text/x-python",
   "name": "python",
   "nbconvert_exporter": "python",
   "pygments_lexer": "ipython3",
   "version": "3.10.6"
  }
 },
 "nbformat": 4,
 "nbformat_minor": 5
}
