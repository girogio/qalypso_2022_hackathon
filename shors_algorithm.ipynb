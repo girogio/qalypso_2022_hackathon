{
 "cells": [
  {
   "cell_type": "markdown",
   "metadata": {},
   "source": [
    "# Shor's Algorithm on Tket"
   ]
  },
  {
   "cell_type": "markdown",
   "metadata": {},
   "source": [
    "## Motivation – RSA Cryptosystem \n",
    "\n",
    "Bob wants to receive a encoded message from Alice such that only he can read it. What can he do?\n",
    "\n",
    "1. He picks two very large (200+ bit) prime numbers $p$ and $q$\n",
    "2. He sends Alice their product $N=pq$ and an encoding constant $c$ through a public channel\n",
    "\n",
    "**Note:** $c$ must have no factors in common with $\\phi(N)$, where $\\phi$ is the Euler totient function. Also, $p$ and $q$ seperately must remain private. This is not a hard premise to satisfy, as factoring a ~400-bit number is unfeasible with currently available computers."
   ]
  },
  {
   "cell_type": "markdown",
   "metadata": {},
   "source": [
    "## TKET Implementation\n",
    "\n",
    "In this example we will solve the period finding problem for $a=7$ and $N=15$. We provide the circuits for $U$ where:\n",
    "\n",
    "$$U|y\\rangle = |ay\\bmod 15\\rangle $$\n",
    "\n",
    "without explanation. To create $U^x$, we will simply repeat the circuit $x$ times. In the next section we will discuss a general method for creating these circuits efficiently. The function `c_amod15` returns the controlled-U gate for `a`, repeated `power` times."
   ]
  },
  {
   "cell_type": "markdown",
   "metadata": {},
   "source": [
    "### Imports"
   ]
  },
  {
   "cell_type": "code",
   "execution_count": null,
   "metadata": {},
   "outputs": [],
   "source": [
    "import matplotlib.pyplot as plt\n",
    "import numpy as np\n",
    "from qiskit.visualization import plot_histogram\n",
    "\n",
    "#Tket port\n",
    "from pytket import Circuit, OpType\n",
    "from pytket.circuit import CircBox, QControlBox\n",
    "from pytket.circuit.display import render_circuit_jupyter\n",
    "\n",
    "from math import gcd\n",
    "from numpy.random import randint\n",
    "import pandas as pd\n",
    "from fractions import Fraction\n",
    "\n",
    "\n",
    "from pytket.extensions.qiskit import AerBackend\n",
    "b = AerBackend()                            \n",
    "\n",
    "print(\"Imports Successful\")"
   ]
  },
  {
   "cell_type": "markdown",
   "metadata": {},
   "source": [
    "### Definition of the Unitary gate – Multiplication Modulo 15"
   ]
  },
  {
   "cell_type": "code",
   "execution_count": 2,
   "metadata": {},
   "outputs": [],
   "source": [
    "def c_amod15(a, power):\n",
    "    \"\"\"Controlled multiplication by a mod 15\"\"\"\n",
    "    if a not in [2,4,7,8,11,13]:\n",
    "        raise ValueError(\"'a' must be 2,4,7,8,11 or 13\")\n",
    "    U = Circuit(4, name=\"%i^%i mod 15\" % (a, power))     \n",
    "    for iteration in range(power):\n",
    "        if a in [2,13]:\n",
    "            U.SWAP(0,1)\n",
    "            U.SWAP(1,2)\n",
    "            U.SWAP(2,3)\n",
    "        if a in [7,8]:\n",
    "            U.SWAP(2,3)\n",
    "            U.SWAP(1,2)\n",
    "            U.SWAP(0,1)\n",
    "        if a in [4, 11]:\n",
    "            U.SWAP(1,3)\n",
    "            U.SWAP(0,2)\n",
    "        if a in [7,11,13]:\n",
    "            for q in range(4):\n",
    "                U.X(q)\n",
    "\n",
    "\n",
    "    cU = CircBox(U)\n",
    "\n",
    "    box = QControlBox(cU, 1)\n",
    "    \n",
    "    return box"
   ]
  },
  {
   "cell_type": "markdown",
   "metadata": {},
   "source": [
    "### Defining the Inverse QFT Gate\n",
    "A `CircBox` is used as to create a "
   ]
  },
  {
   "cell_type": "code",
   "execution_count": null,
   "metadata": {},
   "outputs": [],
   "source": [
    "def qft_dagger(n):\n",
    "    \"\"\"n-qubit QFTdagger the first n qubits in circ\"\"\"\n",
    "    qc = Circuit(n, name=\"QFT†\")\n",
    "    # Don't forget the Swaps!\n",
    "    for qubit in range(n//2):\n",
    "        qc.SWAP(qubit, n-qubit-1)\n",
    "    for j in range(n):\n",
    "        for m in range(j):\n",
    "            qc.add_gate(OpType.CU1, [-1/float(2**(j-m))], [m, j])\n",
    "        qc.H(j)\n",
    "    return CircBox(qc)"
   ]
  }
 ],
 "metadata": {
  "kernelspec": {
   "display_name": "Python 3.9.14 64-bit",
   "language": "python",
   "name": "python3"
  },
  "language_info": {
   "codemirror_mode": {
    "name": "ipython",
    "version": 3
   },
   "file_extension": ".py",
   "mimetype": "text/x-python",
   "name": "python",
   "nbconvert_exporter": "python",
   "pygments_lexer": "ipython3",
   "version": "3.9.14"
  },
  "orig_nbformat": 4,
  "vscode": {
   "interpreter": {
    "hash": "a665b5d41d17b532ea9890333293a1b812fa0b73c9c25c950b3cedf1bebd0438"
   }
  }
 },
 "nbformat": 4,
 "nbformat_minor": 2
}
