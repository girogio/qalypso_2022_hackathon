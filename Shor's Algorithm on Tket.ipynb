{
 "cells": [
  {
   "cell_type": "markdown",
   "id": "caring-condition",
   "metadata": {},
   "source": [
    "# Shor's Algorithm on Tket"
   ]
  },
  {
   "cell_type": "markdown",
   "id": "ranking-being",
   "metadata": {},
   "source": [
    "## Classical Part"
   ]
  },
  {
   "cell_type": "markdown",
   "id": "forced-geography",
   "metadata": {},
   "source": [
    "> TODO"
   ]
  },
  {
   "cell_type": "markdown",
   "id": "incorporate-disposition",
   "metadata": {},
   "source": [
    "## Quantum Part"
   ]
  },
  {
   "cell_type": "markdown",
   "id": "quality-description",
   "metadata": {},
   "source": [
    "> TODO: Talk about period finding subroutine"
   ]
  },
  {
   "cell_type": "code",
   "execution_count": null,
   "id": "closing-hollywood",
   "metadata": {},
   "outputs": [],
   "source": []
  }
 ],
 "metadata": {
  "kernelspec": {
   "display_name": "Python 3",
   "language": "python",
   "name": "python3"
  },
  "language_info": {
   "codemirror_mode": {
    "name": "ipython",
    "version": 3
   },
   "file_extension": ".py",
   "mimetype": "text/x-python",
   "name": "python",
   "nbconvert_exporter": "python",
   "pygments_lexer": "ipython3",
   "version": "3.9.13"
  }
 },
 "nbformat": 4,
 "nbformat_minor": 5
}
