{
 "cells": [
  {
   "cell_type": "markdown",
   "id": "caring-condition",
   "metadata": {},
   "source": [
    "# Shor's Algorithm on Tket"
   ]
  },
  {
   "cell_type": "markdown",
   "id": "appreciated-avatar",
   "metadata": {},
   "source": [
    "<u><b>GOAL:</b></u> Find a number $p$ that divides $N$. <br>\n",
    "<u><b>INPUT:</b></u> A positive integer $N$. <br>\n",
    "<u><b>OUTPUT:</b></u> A positive integer $p$ that divides $N$."
   ]
  },
  {
   "cell_type": "markdown",
   "id": "ranking-being",
   "metadata": {},
   "source": [
    "## Classical Part"
   ]
  },
  {
   "cell_type": "markdown",
   "id": "forced-geography",
   "metadata": {},
   "source": [
    "1. Pick a random number $a < N$ \n",
    "2. Find the greatest common divisor of $a$ and $N$.\n",
    "> The Greatest Common Divisor (GCD) of two numbers is the largest positive integer that divides both of them. $GCD(a,b)$ can be found very fast with the Euclidean algorithm in $\\mathcal{O}(log(min(a,b)))$.\n",
    "3. If $GCD(a,N) \\neq 1$ then we output $p=a$. Otherwise, run period finding subroutine to obtain a period $r$.\n",
    "> $r$ is the smallest integer for which $f(x + r) = f(x)$, where $f(x) = a^x mod N$. The idea is that we want to find $r$ because: "
   ]
  },
  {
   "cell_type": "markdown",
   "id": "mature-chick",
   "metadata": {},
   "source": [
    "$$(a^r -1) mod N = 0.\\$$"
   ]
  },
  {
   "cell_type": "markdown",
   "id": "found-garlic",
   "metadata": {},
   "source": [
    "4. Then factors of $N$ should be $gcd(a^\\frac{r}{2} ± 1, N)$."
   ]
  },
  {
   "cell_type": "markdown",
   "id": "controlling-authentication",
   "metadata": {},
   "source": [
    "> However, if $r$ is odd we need to go back to step 1 because since $a$ is also odd, then $ar$ will be odd and we will not get an integer when performing the division $\\frac{ar}{2}$ on the last step."
   ]
  },
  {
   "cell_type": "markdown",
   "id": "coupled-shanghai",
   "metadata": {},
   "source": [
    "> Also, since $(a^r-1) mod N = 0$, this imples that $a^r-1$ can be a any multiple of N, and therefore we also have to check that $a^{r/2} ≡ -1 (mod N)$. If this is the case then go back to step 1. "
   ]
  },
  {
   "cell_type": "markdown",
   "id": "incorporate-disposition",
   "metadata": {},
   "source": [
    "## Quantum Part"
   ]
  },
  {
   "cell_type": "markdown",
   "id": "quality-description",
   "metadata": {},
   "source": [
    "> TODO: Talk about period finding subroutine"
   ]
  },
  {
   "cell_type": "markdown",
   "id": "59e82acd-b0a6-4180-b3c5-846799773794",
   "metadata": {},
   "source": [
    "### Period finding"
   ]
  },
  {
   "cell_type": "markdown",
   "id": "90349f25-a1aa-474a-9a2b-6eaaff5ef7a5",
   "metadata": {},
   "source": [
    "Traditionally, we would implement a function $f: \\{0,1\\}^n = [0, N-1] \\longrightarrow \\{0,1\\}^n = [0, N-1]$ with an oracle gate $U_f$ defined as follows:\n",
    "$$\n",
    "f(x)=y \\iff U_f \\left|q \\right>_{ancilla}\\left|x\\right>_{input} = \\left|q \\right>_{ancilla}\\left|f(x) \\oplus q \\right>_{input}\n",
    "$$\n",
    "However, for the purposes of finding the period of a function, there is a more efficient way to encode it using only $n$ instead of $2n$ qubits:\n",
    "$$\n",
    "U_f\\left|f(0) \\right>=\\left|f(1) \\right> \\\\\n",
    "U_f\\left|f(1) \\right>=\\left|f(2) \\right> \\\\\n",
    "U_f\\left|f(2) \\right>=\\left|f(3) \\right> \\\\\n",
    "\\cdots \\\\\n",
    "U_f\\left|f(r-2) \\right>=\\left|f(r-1) \\right> \\\\\n",
    "U_f\\left|f(r-1) \\right>=\\left|f(r)=f(0) \\right>\n",
    "$$\n",
    "This defines $U_f$ for inputs $x \\in f[0, N-1]$. We still have total freedom on how to define $U_f$ on the remaining inputs.\n",
    "\n",
    "For our particular $f_a(x)=a^x \\mod N$, we have:\n",
    "\n",
    "$$\n",
    "U_f\\left|x\\right>=\\left|ax \\mod N \\right>\n",
    "$$\n",
    "\n",
    "\n",
    "\n",
    "\n",
    "[comment]: <> (Because a and N are coprime. Write it here if you havent't said it in the classical part)\n",
    "\n"
   ]
  },
  {
   "cell_type": "markdown",
   "id": "66dcbe64",
   "metadata": {},
   "source": [
    "However, if the function $f(x)=a^x \\mod N$ is bijective from $\\{0, N-1\\}$ to $\\{0, N-1\\}$, the encoding can be performed in a simpler way using $n$ qubits instead of $n+n=2n$ qubits:\n",
    "$$\n",
    "U_f\\left|x\\right>=\\left|f(x)\\right>=\\left|a^x \\mod N\\right>\n",
    "$$"
   ]
  },
  {
   "cell_type": "markdown",
   "id": "c733a858",
   "metadata": {},
   "source": [
    "This gate $U_f$ has eigenvalues $e^{2\\pi i \\frac{s}{r}}$\n",
    "\n",
    "In fact, \n",
    "\n",
    "By performing quantum phase estimation on it you can extract $r$"
   ]
  },
  {
   "cell_type": "code",
   "execution_count": 1,
   "id": "8e932ce7",
   "metadata": {},
   "outputs": [
    {
     "name": "stdout",
     "output_type": "stream",
     "text": [
      "False\n"
     ]
    }
   ],
   "source": [
    "import math\n",
    "import numpy as np\n",
    "N=35\n",
    "n=8\n",
    "a=3\n",
    "\n",
    "def f(x:int):\n",
    "    return pow(a,x) % N\n",
    "def is_injective(f, rng):\n",
    "    values_of_f= set()\n",
    "    for _input in rng:\n",
    "        a=f(_input)\n",
    "        values_of_f.add(a)\n",
    "        \n",
    "    return len(values_of_f) == len(rng)\n",
    "xrange=range(64)\n",
    "print(is_injective(f, xrange))"
   ]
  },
  {
   "cell_type": "markdown",
   "id": "cad1892c",
   "metadata": {},
   "source": [
    "# Period finding (attempt 2)\n",
    "\n",
    "\n",
    "Nice property of the function $f_a(x)$: it has no accidental degeneracies\n",
    "Define a $n$-qubit quantum gate $U_f$ as follows:\n",
    "\n",
    "For $x \\in$ the *main cycle* $\\{1, a, \\cdots\\}$, $U_f$ acts by cycling the $\\left|x\\right>$s:\n",
    "$$\n",
    "U_f\\left|f(0) \\right>=\\left|f(1) \\right> \\\\\n",
    "U_f\\left|f(1) \\right>=\\left|f(2) \\right> \\\\\n",
    "U_f\\left|f(2) \\right>=\\left|f(3) \\right> \\\\\n",
    "\\cdots \\\\\n",
    "U_f\\left|f(r-2) \\right>=\\left|f(r-1) \\right> \\\\\n",
    "U_f\\left|f(r-1) \\right>=\\left|f(r)=f(0) \\right>\n",
    "$$\n",
    "\n",
    "For $x \\in$ all the rest, $ [0, 2^n-1]\\setminus f[0,2^n-1]$, $U_f$ is defined arbitrarily.\n",
    "\n",
    "This cyclic property of $U_f$ on $f[0, 2^n-1]$ ensures that $U_f$ has eigenvectors of the form:\n",
    "$$\n",
    "\\left|u_0\\right>= \\frac{1}{\\sqrt{r}} \\sum_{k=0}^{r-1} 1 \\left|a^k \\mod N\\right>\\\\\n",
    "\\left|u_1\\right>= \\frac{1}{\\sqrt{r}} \\sum_{k=0}^{r-1} e^{2 \\pi i \\cdot 1 /r} \\left|a^k \\mod N\\right>\\\\\n",
    "\\left|u_2\\right>= \\frac{1}{\\sqrt{r}} \\sum_{k=0}^{r-1} e^{2 \\pi i\\cdot 2 /r} \\left|a^k \\mod N\\right>\\\\\n",
    "\\cdots \\\\\n",
    "\\left|u_{r-1}\\right>= \\frac{1}{\\sqrt{r}} \\sum_{k=0}^{r-1} e^{2 \\pi i\\cdot (r-1) /r} \\left|a^k \\mod N\\right>\\\\\n",
    "$$\n",
    "Plus other eigenvectors, which depend on the arbitrarily completed definition of $U_f$, which we don't give a shit about.\n",
    "The idea is to use the Quantum Phase Estimation subroutine, which we'll talk about shortly, on one of the states of $TOBEDEFINED$ to get a phase $\\Phi=\\frac{s}{r}$, with $s$ a random integer.\n",
    "\n",
    "Turning this relationship around, we have:\n",
    "\n",
    "$$\n",
    "\\left|a^0 \\mod N\\right>= \\frac{1}{\\sqrt{r}} \\sum_{k=0}^{r-1} 1 \\left|u_k\\right>\\\\\n",
    "\\left|a^1 \\mod N\\right>= \\frac{1}{\\sqrt{r}} \\sum_{k=0}^{r-1} e^{2 \\pi i \\cdot 1 /r} \\left|u_k\\right>\\\\\n",
    "\\left|a^2 \\mod N\\right>= \\frac{1}{\\sqrt{r}} \\sum_{k=0}^{r-1} e^{2 \\pi i \\cdot 2 /r} \\left|u_k\\right>\\\\\n",
    "\\cdots \\\\\n",
    "\\left|a^{r-1} \\mod N\\right>= \\frac{1}{\\sqrt{r}} \\sum_{k=0}^{r-1} e^{2 \\pi i \\cdot (r-1) /r} \\left|u_k\\right>\\\\\n",
    "$$"
   ]
  },
  {
   "cell_type": "markdown",
   "id": "642b8712",
   "metadata": {},
   "source": [
    "# Quantum Phase Extimation"
   ]
  },
  {
   "cell_type": "markdown",
   "id": "234d907e",
   "metadata": {},
   "source": [
    "Given a unitary $U$, with eigenvectors $U \\left| \\psi_{\\theta} \\right>=e^{2 \\pi \\phi}\\left| \\psi_{\\theta} \\right>$, QPE is a quantum algorithm that, when fed $\\left| \\psi \\right>$, outputs $\\phi$ as a classical output and $\\left| \\psi \\right>$ itself as a quantum output.\n",
    "\n",
    "Here is the circuit:"
   ]
  },
  {
   "cell_type": "code",
   "execution_count": 2,
   "id": "6dee19da",
   "metadata": {},
   "outputs": [],
   "source": [
    "#INSERT HERE QPE CIRCUIT"
   ]
  },
  {
   "cell_type": "markdown",
   "id": "156e2a67",
   "metadata": {},
   "source": [
    "More specifically, it outputs (to be completed) with $\\left< \\psi_{\\phi} | \\psi \\right>$ probability amplitude"
   ]
  },
  {
   "cell_type": "markdown",
   "id": "a696df65",
   "metadata": {},
   "source": [
    "The time cost of the QPE algorithm is $O()$, given by the Quantum Fourier Transform in the algorithm."
   ]
  },
  {
   "cell_type": "markdown",
   "id": "707fcd9e",
   "metadata": {},
   "source": [
    "Let's just focus on the first of those states in (insert ref), and apply QPE on it\n",
    "\n",
    "$$\n",
    "\\left| 1 \\right >= \\frac{1}{\\sqrt{r}} \\sum_{k=0}^{r-1} 1 \\left|u_k\\right>\n",
    "$$\n",
    "\n",
    "$\\left| 1 \\right >$ is an equal weight superposition of the eigenvectors, so applying QPE on it yields $\\phi=\\frac{s}{r}$ for a random $s$ with equal probability"
   ]
  },
  {
   "cell_type": "markdown",
   "id": "98c7ac95",
   "metadata": {},
   "source": [
    "Doing it a few times yields a few values of $s$:\n",
    "\n",
    "$$\n",
    "\\frac{s_1}{r}, \\; \\frac{s_2}{r}, \\; \\cdots, \\; \\frac{s_m}{r} \n",
    "$$"
   ]
  },
  {
   "cell_type": "markdown",
   "id": "badecf33",
   "metadata": {},
   "source": [
    "From which r can be determined using a continued fractions algorithm"
   ]
  }
 ],
 "metadata": {
  "kernelspec": {
   "display_name": "Python 3 (ipykernel)",
   "language": "python",
   "name": "python3"
  },
  "language_info": {
   "codemirror_mode": {
    "name": "ipython",
    "version": 3
   },
   "file_extension": ".py",
   "mimetype": "text/x-python",
   "name": "python",
   "nbconvert_exporter": "python",
   "pygments_lexer": "ipython3",
   "version": "3.10.6"
  }
 },
 "nbformat": 4,
 "nbformat_minor": 5
}
