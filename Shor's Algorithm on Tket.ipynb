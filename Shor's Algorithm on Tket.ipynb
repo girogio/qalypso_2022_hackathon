{
 "cells": [
  {
   "cell_type": "markdown",
   "id": "reverse-playback",
   "metadata": {},
   "source": [
    "# Shor's Algorithm on Tket"
   ]
  },
  {
   "cell_type": "markdown",
   "id": "short-bubble",
   "metadata": {},
   "source": [
    "## Classical Part"
   ]
  },
  {
   "cell_type": "markdown",
   "id": "coastal-madrid",
   "metadata": {},
   "source": [
    "# "
   ]
  }
 ],
 "metadata": {
  "kernelspec": {
   "display_name": "Python 3",
   "language": "python",
   "name": "python3"
  },
  "language_info": {
   "codemirror_mode": {
    "name": "ipython",
    "version": 3
   },
   "file_extension": ".py",
   "mimetype": "text/x-python",
   "name": "python",
   "nbconvert_exporter": "python",
   "pygments_lexer": "ipython3",
   "version": "3.9.13"
  }
 },
 "nbformat": 4,
 "nbformat_minor": 5
}
