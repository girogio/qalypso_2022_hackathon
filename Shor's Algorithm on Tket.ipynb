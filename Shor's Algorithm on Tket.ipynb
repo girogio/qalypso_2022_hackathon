{
 "cells": [
  {
   "cell_type": "markdown",
   "id": "caring-condition",
   "metadata": {},
   "source": [
    "# Shor's Algorithm on Tket"
   ]
  },
  {
   "cell_type": "markdown",
   "id": "appreciated-avatar",
   "metadata": {},
   "source": [
    "<u><b>GOAL:</b></u> Find a number $p$ that divides $N$. <br>\n",
    "<u><b>INPUT:</b></u> A positive integer $N$. <br>\n",
    "<u><b>OUTPUT:</b></u> A positive integer $p$ that divides $N$."
   ]
  },
  {
   "cell_type": "markdown",
   "id": "ranking-being",
   "metadata": {},
   "source": [
    "## Classical Part"
   ]
  },
  {
   "cell_type": "markdown",
   "id": "forced-geography",
   "metadata": {},
   "source": [
    "1. Pick a random number $a < N$ \n",
    "2. Find the greatest common divisor of $a$ and $N$.\n",
    "> The Greatest Common Divisor (GCD) of two numbers is the largest positive integer that divides both of them. $GCD(a,b)$ can be found very fast with the Euclidean algorithm in $\\mathcal{O}(log(min(a,b)))$.\n",
    "3. If $GCD(a,N) \\neq 1$ then we output $p=a$. Otherwise, run period finding subroutine to obtain a period $r$.\n",
    "> $r$ is the smallest integer for which $f(x + r) = f(x)$, where $f(x) = a^x mod N$. The idea is that we want to find $r$ because: "
   ]
  },
  {
   "cell_type": "markdown",
   "id": "mature-chick",
   "metadata": {},
   "source": [
    "$$(a^r -1) mod N = 0.\\$$"
   ]
  },
  {
   "cell_type": "markdown",
   "id": "found-garlic",
   "metadata": {},
   "source": [
    "4. Then factors of $N$ should be $gcd(a^\\frac{r}{2} ± 1, N)$."
   ]
  },
  {
   "cell_type": "markdown",
   "id": "controlling-authentication",
   "metadata": {},
   "source": [
    "> However, if $r$ is odd we need to go back to step 1 because since $a$ is also odd, then $ar$ will be odd and we will not get an integer when performing the division $\\frac{ar}{2}$ on the last step."
   ]
  },
  {
   "cell_type": "markdown",
   "id": "coupled-shanghai",
   "metadata": {},
   "source": [
    "> Also, since $(a^r-1) mod N = 0$, this imples that $a^r-1$ can be a any multiple of N, and therefore we also have to check that $a^{r/2} ≡ -1 (mod N)$. If this is the case then go back to step 1. "
   ]
  },
  {
   "cell_type": "markdown",
   "id": "incorporate-disposition",
   "metadata": {},
   "source": [
    "## Quantum Part"
   ]
  },
  {
   "cell_type": "markdown",
   "id": "quality-description",
   "metadata": {},
   "source": [
    "> TODO: Talk about period finding subroutine"
   ]
  },
  {
   "cell_type": "code",
   "execution_count": null,
   "id": "closing-hollywood",
   "metadata": {},
   "outputs": [],
   "source": []
  }
 ],
 "metadata": {
  "kernelspec": {
   "display_name": "Python 3",
   "language": "python",
   "name": "python3"
  },
  "language_info": {
   "codemirror_mode": {
    "name": "ipython",
    "version": 3
   },
   "file_extension": ".py",
   "mimetype": "text/x-python",
   "name": "python",
   "nbconvert_exporter": "python",
   "pygments_lexer": "ipython3",
   "version": "3.9.13"
  }
 },
 "nbformat": 4,
 "nbformat_minor": 5
}
